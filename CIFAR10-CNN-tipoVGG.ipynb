{
  "nbformat": 4,
  "nbformat_minor": 0,
  "metadata": {
    "kernelspec": {
      "display_name": "Python (tensorflow-gpu)",
      "language": "python",
      "name": "tensorflow-gpu"
    },
    "language_info": {
      "codemirror_mode": {
        "name": "ipython",
        "version": 3
      },
      "file_extension": ".py",
      "mimetype": "text/x-python",
      "name": "python",
      "nbconvert_exporter": "python",
      "pygments_lexer": "ipython3",
      "version": "3.6.8"
    },
    "colab": {
      "name": "CIFAR10-CNN-tipoVGG.ipynb",
      "provenance": [],
      "toc_visible": true,
      "include_colab_link": true
    },
    "accelerator": "GPU"
  },
  "cells": [
    {
      "cell_type": "markdown",
      "metadata": {
        "id": "view-in-github",
        "colab_type": "text"
      },
      "source": [
        "<a href=\"https://colab.research.google.com/github/fvillarino/ITBA-CNN/blob/main/CIFAR10-CNN-tipoVGG.ipynb\" target=\"_parent\"><img src=\"https://colab.research.google.com/assets/colab-badge.svg\" alt=\"Open In Colab\"/></a>"
      ]
    },
    {
      "cell_type": "code",
      "metadata": {
        "id": "p4U-p7rSK_HV"
      },
      "source": [
        "%reload_ext autoreload\n",
        "%autoreload 2\n",
        "%config InlineBackend.figure_format = 'retina'\n"
      ],
      "execution_count": 1,
      "outputs": []
    },
    {
      "cell_type": "code",
      "metadata": {
        "id": "KC-2KboZK_HX",
        "outputId": "f85d1e4b-91ec-4730-da1b-863c40b8c8a0"
      },
      "source": [
        "from keras import backend as K\n",
        "import tensorflow as tf\n",
        "config = tf.ConfigProto()\n",
        "config.gpu_options.allow_growth=True\n",
        "sess = tf.Session(config=config)\n",
        "K.set_session(sess)"
      ],
      "execution_count": null,
      "outputs": [
        {
          "output_type": "stream",
          "text": [
            "Using TensorFlow backend.\n"
          ],
          "name": "stderr"
        }
      ]
    },
    {
      "cell_type": "code",
      "metadata": {
        "id": "B2Dg18vrK_HZ"
      },
      "source": [
        "from numpy.random import seed\n",
        "seed(1)\n",
        "from tensorflow import set_random_seed\n",
        "set_random_seed(2)"
      ],
      "execution_count": null,
      "outputs": []
    },
    {
      "cell_type": "code",
      "metadata": {
        "id": "0qh5r7jAK_Ha"
      },
      "source": [
        "import numpy as np\n",
        "import pandas as pd\n",
        "import matplotlib.pyplot as plt\n",
        "from sklearn.model_selection import train_test_split"
      ],
      "execution_count": 2,
      "outputs": []
    },
    {
      "cell_type": "markdown",
      "metadata": {
        "id": "yF0cDupTK_Ha"
      },
      "source": [
        "## Keras modules"
      ]
    },
    {
      "cell_type": "code",
      "metadata": {
        "id": "h-5T7FxCK_Hb"
      },
      "source": [
        "from keras.utils import to_categorical\n",
        "from keras.callbacks import ModelCheckpoint, EarlyStopping\n",
        "from keras.models import Sequential\n",
        "from keras.layers.core import Dense, Flatten, Activation\n",
        "from keras.layers import Conv2D, AveragePooling2D, BatchNormalization, Dropout, MaxPooling2D"
      ],
      "execution_count": 24,
      "outputs": []
    },
    {
      "cell_type": "markdown",
      "metadata": {
        "id": "puQ9s9QjK_Hc"
      },
      "source": [
        "## Cargo datos"
      ]
    },
    {
      "cell_type": "code",
      "metadata": {
        "colab": {
          "base_uri": "https://localhost:8080/"
        },
        "id": "2ZYNxX9kK_Hc",
        "outputId": "548795bc-a895-49f4-c27d-50323e2ad4ef"
      },
      "source": [
        "from keras.datasets import cifar10\n",
        "((x, y), (x_test,y_test)) = cifar10.load_data()"
      ],
      "execution_count": 4,
      "outputs": [
        {
          "output_type": "stream",
          "text": [
            "Downloading data from https://www.cs.toronto.edu/~kriz/cifar-10-python.tar.gz\n",
            "170500096/170498071 [==============================] - 2s 0us/step\n"
          ],
          "name": "stdout"
        }
      ]
    },
    {
      "cell_type": "code",
      "metadata": {
        "id": "HpLpxCrxK_Hd"
      },
      "source": [
        "x_train, x_valid, y_train, y_valid = train_test_split(x, y, test_size = 0.1)"
      ],
      "execution_count": 5,
      "outputs": []
    },
    {
      "cell_type": "markdown",
      "metadata": {
        "id": "I0RJ_ngcK_He"
      },
      "source": [
        "## Paso a float"
      ]
    },
    {
      "cell_type": "code",
      "metadata": {
        "id": "jbaDpaPeK_Hf"
      },
      "source": [
        "x_train = x_train.astype('float32')\n",
        "x_valid = x_valid.astype('float32')\n",
        "x_test = x_test.astype('float32')\n",
        "x_train /= 255\n",
        "x_valid /= 255\n",
        "x_test /= 255"
      ],
      "execution_count": 6,
      "outputs": []
    },
    {
      "cell_type": "code",
      "metadata": {
        "id": "wF6dA_XsK_Hg"
      },
      "source": [
        "y_train_categorical = to_categorical(y_train)\n",
        "y_val_categorical = to_categorical(y_valid)"
      ],
      "execution_count": 7,
      "outputs": []
    },
    {
      "cell_type": "markdown",
      "metadata": {
        "id": "zLq3ZE9EK_Hh"
      },
      "source": [
        "## Red neuronal: CNN tipo VGG-11"
      ]
    },
    {
      "cell_type": "code",
      "metadata": {
        "colab": {
          "base_uri": "https://localhost:8080/"
        },
        "id": "lZr7ZSXoK_Hh",
        "outputId": "4f8d600d-ab79-44fe-b853-ce7893290369"
      },
      "source": [
        "model = Sequential()\n",
        "\n",
        "model.add(Conv2D(filters=16, kernel_size=(3, 3), input_shape=(32,32,3), padding='same'))\n",
        "model.add(Activation('relu'))\n",
        "model.add(MaxPooling2D())\n",
        "\n",
        "model.add(Conv2D(filters=32, kernel_size=(3, 3), padding='same'))\n",
        "model.add(Activation('relu'))\n",
        "model.add(MaxPooling2D())\n",
        "\n",
        "model.add(Conv2D(filters=64, kernel_size=(3, 3), padding='same'))\n",
        "model.add(Conv2D(filters=64, kernel_size=(3, 3), padding='same'))\n",
        "model.add(Activation('relu'))\n",
        "model.add(MaxPooling2D())\n",
        "\n",
        "model.add(Conv2D(filters=128, kernel_size=(3, 3), padding='same'))\n",
        "model.add(Conv2D(filters=128, kernel_size=(3, 3), padding='same'))\n",
        "model.add(Activation('relu'))\n",
        "model.add(MaxPooling2D())\n",
        "\n",
        "model.add(Flatten())\n",
        "\n",
        "model.add(Dense(units=256, activation='relu'))\n",
        "model.add(Dropout(0.5))\n",
        "model.add(Dense(units=256, activation='relu'))\n",
        "model.add(Dropout(0.5))\n",
        "model.add(Dense(units=10, activation = 'softmax'))\n",
        "\n",
        "model.compile(loss='categorical_crossentropy', optimizer='Adam', metrics=['accuracy'])\n",
        "model.summary()"
      ],
      "execution_count": 8,
      "outputs": [
        {
          "output_type": "stream",
          "text": [
            "Model: \"sequential\"\n",
            "_________________________________________________________________\n",
            "Layer (type)                 Output Shape              Param #   \n",
            "=================================================================\n",
            "conv2d (Conv2D)              (None, 32, 32, 16)        448       \n",
            "_________________________________________________________________\n",
            "activation (Activation)      (None, 32, 32, 16)        0         \n",
            "_________________________________________________________________\n",
            "max_pooling2d (MaxPooling2D) (None, 16, 16, 16)        0         \n",
            "_________________________________________________________________\n",
            "conv2d_1 (Conv2D)            (None, 16, 16, 32)        4640      \n",
            "_________________________________________________________________\n",
            "activation_1 (Activation)    (None, 16, 16, 32)        0         \n",
            "_________________________________________________________________\n",
            "max_pooling2d_1 (MaxPooling2 (None, 8, 8, 32)          0         \n",
            "_________________________________________________________________\n",
            "conv2d_2 (Conv2D)            (None, 8, 8, 64)          18496     \n",
            "_________________________________________________________________\n",
            "conv2d_3 (Conv2D)            (None, 8, 8, 64)          36928     \n",
            "_________________________________________________________________\n",
            "activation_2 (Activation)    (None, 8, 8, 64)          0         \n",
            "_________________________________________________________________\n",
            "max_pooling2d_2 (MaxPooling2 (None, 4, 4, 64)          0         \n",
            "_________________________________________________________________\n",
            "conv2d_4 (Conv2D)            (None, 4, 4, 128)         73856     \n",
            "_________________________________________________________________\n",
            "conv2d_5 (Conv2D)            (None, 4, 4, 128)         147584    \n",
            "_________________________________________________________________\n",
            "activation_3 (Activation)    (None, 4, 4, 128)         0         \n",
            "_________________________________________________________________\n",
            "max_pooling2d_3 (MaxPooling2 (None, 2, 2, 128)         0         \n",
            "_________________________________________________________________\n",
            "flatten (Flatten)            (None, 512)               0         \n",
            "_________________________________________________________________\n",
            "dense (Dense)                (None, 256)               131328    \n",
            "_________________________________________________________________\n",
            "dropout (Dropout)            (None, 256)               0         \n",
            "_________________________________________________________________\n",
            "dense_1 (Dense)              (None, 256)               65792     \n",
            "_________________________________________________________________\n",
            "dropout_1 (Dropout)          (None, 256)               0         \n",
            "_________________________________________________________________\n",
            "dense_2 (Dense)              (None, 10)                2570      \n",
            "=================================================================\n",
            "Total params: 481,642\n",
            "Trainable params: 481,642\n",
            "Non-trainable params: 0\n",
            "_________________________________________________________________\n"
          ],
          "name": "stdout"
        }
      ]
    },
    {
      "cell_type": "code",
      "metadata": {
        "id": "hI13pQ9NK_Hh"
      },
      "source": [
        "# Callbacks\n",
        "checkpoint_file='checkpoint.cifar10-cnn-tipo-VGG-16.hdf5'\n",
        "earlystop = EarlyStopping(monitor='val_accuracy', min_delta=0, patience=5, verbose=2)\n",
        "checkpointer = ModelCheckpoint(monitor='val_accuracy',filepath=checkpoint_file, verbose=1, save_best_only=True)"
      ],
      "execution_count": 9,
      "outputs": []
    },
    {
      "cell_type": "code",
      "metadata": {
        "colab": {
          "base_uri": "https://localhost:8080/"
        },
        "id": "pyX6Sc5mK_Hi",
        "outputId": "25d31509-2180-4bbe-d78b-8b9e641b4541"
      },
      "source": [
        "x_train.shape"
      ],
      "execution_count": 10,
      "outputs": [
        {
          "output_type": "execute_result",
          "data": {
            "text/plain": [
              "(45000, 32, 32, 3)"
            ]
          },
          "metadata": {
            "tags": []
          },
          "execution_count": 10
        }
      ]
    },
    {
      "cell_type": "code",
      "metadata": {
        "colab": {
          "base_uri": "https://localhost:8080/"
        },
        "id": "bEMcWYNfK_Hj",
        "outputId": "1fb3ac02-ac1c-4730-dbc9-f7375ff38cff"
      },
      "source": [
        "y_train_categorical.shape"
      ],
      "execution_count": 11,
      "outputs": [
        {
          "output_type": "execute_result",
          "data": {
            "text/plain": [
              "(45000, 10)"
            ]
          },
          "metadata": {
            "tags": []
          },
          "execution_count": 11
        }
      ]
    },
    {
      "cell_type": "code",
      "metadata": {
        "colab": {
          "base_uri": "https://localhost:8080/"
        },
        "id": "jDwO5wPbK_Hj",
        "outputId": "210fb829-caaf-4fb2-b4a3-41c0df2fb314"
      },
      "source": [
        "batch_size = 64\n",
        "epocs = 100\n",
        "\n",
        "history = model.fit(x_train, \n",
        "        y_train_categorical,\n",
        "        epochs=epocs, batch_size=batch_size, \n",
        "        verbose=1, \n",
        "        validation_data = (x_valid, y_val_categorical),\n",
        "        callbacks=[checkpointer, earlystop],\n",
        "    )"
      ],
      "execution_count": 12,
      "outputs": [
        {
          "output_type": "stream",
          "text": [
            "Epoch 1/100\n",
            "704/704 [==============================] - 37s 6ms/step - loss: 1.9678 - accuracy: 0.2447 - val_loss: 1.3275 - val_accuracy: 0.5210\n",
            "\n",
            "Epoch 00001: val_accuracy improved from -inf to 0.52100, saving model to checkpoint.cifar10-cnn-tipo-VGG-16.hdf5\n",
            "Epoch 2/100\n",
            "704/704 [==============================] - 4s 5ms/step - loss: 1.3432 - accuracy: 0.5165 - val_loss: 1.2823 - val_accuracy: 0.5512\n",
            "\n",
            "Epoch 00002: val_accuracy improved from 0.52100 to 0.55120, saving model to checkpoint.cifar10-cnn-tipo-VGG-16.hdf5\n",
            "Epoch 3/100\n",
            "704/704 [==============================] - 4s 5ms/step - loss: 1.1682 - accuracy: 0.5899 - val_loss: 1.0444 - val_accuracy: 0.6326\n",
            "\n",
            "Epoch 00003: val_accuracy improved from 0.55120 to 0.63260, saving model to checkpoint.cifar10-cnn-tipo-VGG-16.hdf5\n",
            "Epoch 4/100\n",
            "704/704 [==============================] - 4s 5ms/step - loss: 1.0108 - accuracy: 0.6497 - val_loss: 0.9565 - val_accuracy: 0.6634\n",
            "\n",
            "Epoch 00004: val_accuracy improved from 0.63260 to 0.66340, saving model to checkpoint.cifar10-cnn-tipo-VGG-16.hdf5\n",
            "Epoch 5/100\n",
            "704/704 [==============================] - 4s 5ms/step - loss: 0.9304 - accuracy: 0.6828 - val_loss: 0.9524 - val_accuracy: 0.6718\n",
            "\n",
            "Epoch 00005: val_accuracy improved from 0.66340 to 0.67180, saving model to checkpoint.cifar10-cnn-tipo-VGG-16.hdf5\n",
            "Epoch 6/100\n",
            "704/704 [==============================] - 4s 5ms/step - loss: 0.8580 - accuracy: 0.7067 - val_loss: 0.9274 - val_accuracy: 0.6808\n",
            "\n",
            "Epoch 00006: val_accuracy improved from 0.67180 to 0.68080, saving model to checkpoint.cifar10-cnn-tipo-VGG-16.hdf5\n",
            "Epoch 7/100\n",
            "704/704 [==============================] - 4s 5ms/step - loss: 0.7991 - accuracy: 0.7280 - val_loss: 0.9004 - val_accuracy: 0.6858\n",
            "\n",
            "Epoch 00007: val_accuracy improved from 0.68080 to 0.68580, saving model to checkpoint.cifar10-cnn-tipo-VGG-16.hdf5\n",
            "Epoch 8/100\n",
            "704/704 [==============================] - 4s 6ms/step - loss: 0.7698 - accuracy: 0.7377 - val_loss: 0.8860 - val_accuracy: 0.6920\n",
            "\n",
            "Epoch 00008: val_accuracy improved from 0.68580 to 0.69200, saving model to checkpoint.cifar10-cnn-tipo-VGG-16.hdf5\n",
            "Epoch 9/100\n",
            "704/704 [==============================] - 4s 6ms/step - loss: 0.7260 - accuracy: 0.7567 - val_loss: 0.8208 - val_accuracy: 0.7222\n",
            "\n",
            "Epoch 00009: val_accuracy improved from 0.69200 to 0.72220, saving model to checkpoint.cifar10-cnn-tipo-VGG-16.hdf5\n",
            "Epoch 10/100\n",
            "704/704 [==============================] - 4s 5ms/step - loss: 0.6799 - accuracy: 0.7679 - val_loss: 0.8358 - val_accuracy: 0.7116\n",
            "\n",
            "Epoch 00010: val_accuracy did not improve from 0.72220\n",
            "Epoch 11/100\n",
            "704/704 [==============================] - 4s 6ms/step - loss: 0.6494 - accuracy: 0.7770 - val_loss: 0.8326 - val_accuracy: 0.7222\n",
            "\n",
            "Epoch 00011: val_accuracy did not improve from 0.72220\n",
            "Epoch 12/100\n",
            "704/704 [==============================] - 4s 6ms/step - loss: 0.6160 - accuracy: 0.7920 - val_loss: 0.9139 - val_accuracy: 0.6938\n",
            "\n",
            "Epoch 00012: val_accuracy did not improve from 0.72220\n",
            "Epoch 13/100\n",
            "704/704 [==============================] - 4s 6ms/step - loss: 0.5962 - accuracy: 0.7971 - val_loss: 0.8645 - val_accuracy: 0.7144\n",
            "\n",
            "Epoch 00013: val_accuracy did not improve from 0.72220\n",
            "Epoch 14/100\n",
            "704/704 [==============================] - 4s 6ms/step - loss: 0.5709 - accuracy: 0.8080 - val_loss: 0.9339 - val_accuracy: 0.7006\n",
            "\n",
            "Epoch 00014: val_accuracy did not improve from 0.72220\n",
            "Epoch 00014: early stopping\n"
          ],
          "name": "stdout"
        }
      ]
    },
    {
      "cell_type": "code",
      "metadata": {
        "colab": {
          "base_uri": "https://localhost:8080/",
          "height": 323
        },
        "id": "p3Bt0FuRK_Hk",
        "outputId": "7da5aec8-dc9e-4d7a-8a0a-89eed16f1844"
      },
      "source": [
        "f, (ax1, ax2) = plt.subplots(1, 2, sharex=True, figsize=(18,5))\n",
        "ax1.plot(history.history['loss'], label=\"loss\")\n",
        "ax1.plot(history.history['val_loss'], label=\"val_loss\")\n",
        "ax1.legend()\n",
        "\n",
        "ax2.plot(history.history['accuracy'], label=\"acc\")\n",
        "ax2.plot(history.history['val_accuracy'], label=\"val_accuracy\")\n",
        "ax2.legend()\n",
        "plt.show();"
      ],
      "execution_count": 13,
      "outputs": [
        {
          "output_type": "display_data",
          "data": {
            "image/png": "[encoded data removed]",
            "text/plain": [
              "<Figure size 1296x360 with 2 Axes>"
            ]
          },
          "metadata": {
            "tags": [],
            "image/png": {
              "width": 1041,
              "height": 306
            },
            "needs_background": "light"
          }
        }
      ]
    },
    {
      "cell_type": "code",
      "metadata": {
        "id": "x7yKeio4K_Hk"
      },
      "source": [
        "model.load_weights('checkpoint.cifar10-cnn-tipo-VGG-16.hdf5')"
      ],
      "execution_count": 14,
      "outputs": []
    },
    {
      "cell_type": "code",
      "metadata": {
        "id": "FYXGNnlnMEGD"
      },
      "source": [
        "def get_sorted_errors(model):\n",
        "    losses = []\n",
        "    for i in range(len(x_valid)):\n",
        "        CE_loss = model.evaluate(x_valid[i:i+1], y_val_categorical[i:i+1], verbose=0)[0]\n",
        "        losses.append(CE_loss)\n",
        "    predictions = model.predict(x_valid)\n",
        "    predicted_numbers = predictions.argmax(axis=1)\n",
        "    sorted_loss_indexes = np.argsort(losses)[::-1]\n",
        "    return predictions, predicted_numbers, sorted_loss_indexes"
      ],
      "execution_count": 15,
      "outputs": []
    },
    {
      "cell_type": "code",
      "metadata": {
        "id": "tjkEd49FMKln"
      },
      "source": [
        "predictions, predicted_numbers, sorted_loss_indexes = get_sorted_errors(model)"
      ],
      "execution_count": 16,
      "outputs": []
    },
    {
      "cell_type": "code",
      "metadata": {
        "id": "RYY5wXxNNaPf"
      },
      "source": [
        "from collections import Counter"
      ],
      "execution_count": 17,
      "outputs": []
    },
    {
      "cell_type": "code",
      "metadata": {
        "id": "4y3vnopUNh3Z",
        "outputId": "fba76b83-0f2e-4ba6-bb07-13d8eba911d0",
        "colab": {
          "base_uri": "https://localhost:8080/",
          "height": 325
        }
      },
      "source": [
        "errors_dict = Counter(list(zip(y_valid[sorted_loss_indexes], predicted_numbers[sorted_loss_indexes])))"
      ],
      "execution_count": 23,
      "outputs": [
        {
          "output_type": "error",
          "ename": "TypeError",
          "evalue": "ignored",
          "traceback": [
            "\u001b[0;31m---------------------------------------------------------------------------\u001b[0m",
            "\u001b[0;31mTypeError\u001b[0m                                 Traceback (most recent call last)",
            "\u001b[0;32m<ipython-input-23-93757a22d6f6>\u001b[0m in \u001b[0;36m<module>\u001b[0;34m()\u001b[0m\n\u001b[0;32m----> 1\u001b[0;31m \u001b[0merrors_dict\u001b[0m \u001b[0;34m=\u001b[0m \u001b[0mCounter\u001b[0m\u001b[0;34m(\u001b[0m\u001b[0mlist\u001b[0m\u001b[0;34m(\u001b[0m\u001b[0mzip\u001b[0m\u001b[0;34m(\u001b[0m\u001b[0my_valid\u001b[0m\u001b[0;34m[\u001b[0m\u001b[0msorted_loss_indexes\u001b[0m\u001b[0;34m]\u001b[0m\u001b[0;34m,\u001b[0m \u001b[0mpredicted_numbers\u001b[0m\u001b[0;34m[\u001b[0m\u001b[0msorted_loss_indexes\u001b[0m\u001b[0;34m]\u001b[0m\u001b[0;34m)\u001b[0m\u001b[0;34m)\u001b[0m\u001b[0;34m)\u001b[0m\u001b[0;34m\u001b[0m\u001b[0;34m\u001b[0m\u001b[0m\n\u001b[0m",
            "\u001b[0;32m/usr/lib/python3.7/collections/__init__.py\u001b[0m in \u001b[0;36m__init__\u001b[0;34m(*args, **kwds)\u001b[0m\n\u001b[1;32m    566\u001b[0m             \u001b[0;32mraise\u001b[0m \u001b[0mTypeError\u001b[0m\u001b[0;34m(\u001b[0m\u001b[0;34m'expected at most 1 arguments, got %d'\u001b[0m \u001b[0;34m%\u001b[0m \u001b[0mlen\u001b[0m\u001b[0;34m(\u001b[0m\u001b[0margs\u001b[0m\u001b[0;34m)\u001b[0m\u001b[0;34m)\u001b[0m\u001b[0;34m\u001b[0m\u001b[0;34m\u001b[0m\u001b[0m\n\u001b[1;32m    567\u001b[0m         \u001b[0msuper\u001b[0m\u001b[0;34m(\u001b[0m\u001b[0mCounter\u001b[0m\u001b[0;34m,\u001b[0m \u001b[0mself\u001b[0m\u001b[0;34m)\u001b[0m\u001b[0;34m.\u001b[0m\u001b[0m__init__\u001b[0m\u001b[0;34m(\u001b[0m\u001b[0;34m)\u001b[0m\u001b[0;34m\u001b[0m\u001b[0;34m\u001b[0m\u001b[0m\n\u001b[0;32m--> 568\u001b[0;31m         \u001b[0mself\u001b[0m\u001b[0;34m.\u001b[0m\u001b[0mupdate\u001b[0m\u001b[0;34m(\u001b[0m\u001b[0;34m*\u001b[0m\u001b[0margs\u001b[0m\u001b[0;34m,\u001b[0m \u001b[0;34m**\u001b[0m\u001b[0mkwds\u001b[0m\u001b[0;34m)\u001b[0m\u001b[0;34m\u001b[0m\u001b[0;34m\u001b[0m\u001b[0m\n\u001b[0m\u001b[1;32m    569\u001b[0m \u001b[0;34m\u001b[0m\u001b[0m\n\u001b[1;32m    570\u001b[0m     \u001b[0;32mdef\u001b[0m \u001b[0m__missing__\u001b[0m\u001b[0;34m(\u001b[0m\u001b[0mself\u001b[0m\u001b[0;34m,\u001b[0m \u001b[0mkey\u001b[0m\u001b[0;34m)\u001b[0m\u001b[0;34m:\u001b[0m\u001b[0;34m\u001b[0m\u001b[0;34m\u001b[0m\u001b[0m\n",
            "\u001b[0;32m/usr/lib/python3.7/collections/__init__.py\u001b[0m in \u001b[0;36mupdate\u001b[0;34m(*args, **kwds)\u001b[0m\n\u001b[1;32m    653\u001b[0m                     \u001b[0msuper\u001b[0m\u001b[0;34m(\u001b[0m\u001b[0mCounter\u001b[0m\u001b[0;34m,\u001b[0m \u001b[0mself\u001b[0m\u001b[0;34m)\u001b[0m\u001b[0;34m.\u001b[0m\u001b[0mupdate\u001b[0m\u001b[0;34m(\u001b[0m\u001b[0miterable\u001b[0m\u001b[0;34m)\u001b[0m \u001b[0;31m# fast path when counter is empty\u001b[0m\u001b[0;34m\u001b[0m\u001b[0;34m\u001b[0m\u001b[0m\n\u001b[1;32m    654\u001b[0m             \u001b[0;32melse\u001b[0m\u001b[0;34m:\u001b[0m\u001b[0;34m\u001b[0m\u001b[0;34m\u001b[0m\u001b[0m\n\u001b[0;32m--> 655\u001b[0;31m                 \u001b[0m_count_elements\u001b[0m\u001b[0;34m(\u001b[0m\u001b[0mself\u001b[0m\u001b[0;34m,\u001b[0m \u001b[0miterable\u001b[0m\u001b[0;34m)\u001b[0m\u001b[0;34m\u001b[0m\u001b[0;34m\u001b[0m\u001b[0m\n\u001b[0m\u001b[1;32m    656\u001b[0m         \u001b[0;32mif\u001b[0m \u001b[0mkwds\u001b[0m\u001b[0;34m:\u001b[0m\u001b[0;34m\u001b[0m\u001b[0;34m\u001b[0m\u001b[0m\n\u001b[1;32m    657\u001b[0m             \u001b[0mself\u001b[0m\u001b[0;34m.\u001b[0m\u001b[0mupdate\u001b[0m\u001b[0;34m(\u001b[0m\u001b[0mkwds\u001b[0m\u001b[0;34m)\u001b[0m\u001b[0;34m\u001b[0m\u001b[0;34m\u001b[0m\u001b[0m\n",
            "\u001b[0;31mTypeError\u001b[0m: unhashable type: 'numpy.ndarray'"
          ]
        }
      ]
    },
    {
      "cell_type": "code",
      "metadata": {
        "id": "MI4Uo8x2Njw4",
        "outputId": "d83590f1-8ed7-4528-a718-a2b4bc213dac",
        "colab": {
          "base_uri": "https://localhost:8080/",
          "height": 172
        }
      },
      "source": [
        "print(errors_dict.most_common()[10:])"
      ],
      "execution_count": 19,
      "outputs": [
        {
          "output_type": "error",
          "ename": "NameError",
          "evalue": "ignored",
          "traceback": [
            "\u001b[0;31m---------------------------------------------------------------------------\u001b[0m",
            "\u001b[0;31mNameError\u001b[0m                                 Traceback (most recent call last)",
            "\u001b[0;32m<ipython-input-19-21d2754795f9>\u001b[0m in \u001b[0;36m<module>\u001b[0;34m()\u001b[0m\n\u001b[0;32m----> 1\u001b[0;31m \u001b[0mprint\u001b[0m\u001b[0;34m(\u001b[0m\u001b[0merrors_dict\u001b[0m\u001b[0;34m.\u001b[0m\u001b[0mmost_common\u001b[0m\u001b[0;34m(\u001b[0m\u001b[0;34m)\u001b[0m\u001b[0;34m[\u001b[0m\u001b[0;36m10\u001b[0m\u001b[0;34m:\u001b[0m\u001b[0;34m]\u001b[0m\u001b[0;34m)\u001b[0m\u001b[0;34m\u001b[0m\u001b[0;34m\u001b[0m\u001b[0m\n\u001b[0m",
            "\u001b[0;31mNameError\u001b[0m: name 'errors_dict' is not defined"
          ]
        }
      ]
    },
    {
      "cell_type": "code",
      "metadata": {
        "id": "aupdI7iTNngJ",
        "outputId": "f9c275bb-8bd4-4ecc-c38b-bc161fb2ea35",
        "colab": {
          "base_uri": "https://localhost:8080/"
        }
      },
      "source": [
        "sorted_loss_indexes"
      ],
      "execution_count": 22,
      "outputs": [
        {
          "output_type": "execute_result",
          "data": {
            "text/plain": [
              "array([4516,  956, 1324, ..., 2456, 4264, 1603])"
            ]
          },
          "metadata": {
            "tags": []
          },
          "execution_count": 22
        }
      ]
    },
    {
      "cell_type": "code",
      "metadata": {
        "id": "xqOjPNyc3sty"
      },
      "source": [
        ""
      ],
      "execution_count": null,
      "outputs": []
    }
  ]
}